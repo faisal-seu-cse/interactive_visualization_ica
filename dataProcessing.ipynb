{
 "cells": [
  {
   "cell_type": "code",
   "execution_count": 1,
   "metadata": {},
   "outputs": [],
   "source": [
    "#import libraries\n",
    "\n",
    "import pandas as pd\n",
    "import numpy as np\n",
    "import json"
   ]
  },
  {
   "cell_type": "code",
   "execution_count": 2,
   "metadata": {},
   "outputs": [],
   "source": [
    "# loading the json file\n",
    "\n",
    "df = pd.read_json('2024Populations_Final.json')\n"
   ]
  },
  {
   "cell_type": "code",
   "execution_count": 3,
   "metadata": {},
   "outputs": [],
   "source": [
    "#shaping the dataframe (changing population colums to rows)\n",
    "\n",
    "df1= df.melt(id_vars=['continent'], value_vars=[col for col in df.columns if col.startswith('pop')],\n",
    "                    var_name='year', value_name='population')\n"
   ]
  },
  {
   "cell_type": "code",
   "execution_count": 4,
   "metadata": {},
   "outputs": [
    {
     "data": {
      "text/html": [
       "<div>\n",
       "<style scoped>\n",
       "    .dataframe tbody tr th:only-of-type {\n",
       "        vertical-align: middle;\n",
       "    }\n",
       "\n",
       "    .dataframe tbody tr th {\n",
       "        vertical-align: top;\n",
       "    }\n",
       "\n",
       "    .dataframe thead th {\n",
       "        text-align: right;\n",
       "    }\n",
       "</style>\n",
       "<table border=\"1\" class=\"dataframe\">\n",
       "  <thead>\n",
       "    <tr style=\"text-align: right;\">\n",
       "      <th></th>\n",
       "      <th>continent</th>\n",
       "      <th>year</th>\n",
       "      <th>population</th>\n",
       "    </tr>\n",
       "  </thead>\n",
       "  <tbody>\n",
       "    <tr>\n",
       "      <th>0</th>\n",
       "      <td>Asia</td>\n",
       "      <td>pop 1970</td>\n",
       "      <td>10752971</td>\n",
       "    </tr>\n",
       "    <tr>\n",
       "      <th>1</th>\n",
       "      <td>Europe</td>\n",
       "      <td>pop 1970</td>\n",
       "      <td>2324731</td>\n",
       "    </tr>\n",
       "    <tr>\n",
       "      <th>2</th>\n",
       "      <td>Africa</td>\n",
       "      <td>pop 1970</td>\n",
       "      <td>13795915</td>\n",
       "    </tr>\n",
       "    <tr>\n",
       "      <th>3</th>\n",
       "      <td>Oceania</td>\n",
       "      <td>pop 1970</td>\n",
       "      <td>27075</td>\n",
       "    </tr>\n",
       "    <tr>\n",
       "      <th>4</th>\n",
       "      <td>Europe</td>\n",
       "      <td>pop 1970</td>\n",
       "      <td>19860</td>\n",
       "    </tr>\n",
       "    <tr>\n",
       "      <th>...</th>\n",
       "      <td>...</td>\n",
       "      <td>...</td>\n",
       "      <td>...</td>\n",
       "    </tr>\n",
       "    <tr>\n",
       "      <th>2101</th>\n",
       "      <td>Oceania</td>\n",
       "      <td>pop2050</td>\n",
       "      <td>11349</td>\n",
       "    </tr>\n",
       "    <tr>\n",
       "      <th>2102</th>\n",
       "      <td>Africa</td>\n",
       "      <td>pop2050</td>\n",
       "      <td>851067</td>\n",
       "    </tr>\n",
       "    <tr>\n",
       "      <th>2103</th>\n",
       "      <td>Asia</td>\n",
       "      <td>pop2050</td>\n",
       "      <td>55296331</td>\n",
       "    </tr>\n",
       "    <tr>\n",
       "      <th>2104</th>\n",
       "      <td>Africa</td>\n",
       "      <td>pop2050</td>\n",
       "      <td>37460435</td>\n",
       "    </tr>\n",
       "    <tr>\n",
       "      <th>2105</th>\n",
       "      <td>Africa</td>\n",
       "      <td>pop2050</td>\n",
       "      <td>26438589</td>\n",
       "    </tr>\n",
       "  </tbody>\n",
       "</table>\n",
       "<p>2106 rows × 3 columns</p>\n",
       "</div>"
      ],
      "text/plain": [
       "     continent      year  population\n",
       "0         Asia  pop 1970    10752971\n",
       "1       Europe  pop 1970     2324731\n",
       "2       Africa  pop 1970    13795915\n",
       "3      Oceania  pop 1970       27075\n",
       "4       Europe  pop 1970       19860\n",
       "...        ...       ...         ...\n",
       "2101   Oceania   pop2050       11349\n",
       "2102    Africa   pop2050      851067\n",
       "2103      Asia   pop2050    55296331\n",
       "2104    Africa   pop2050    37460435\n",
       "2105    Africa   pop2050    26438589\n",
       "\n",
       "[2106 rows x 3 columns]"
      ]
     },
     "execution_count": 4,
     "metadata": {},
     "output_type": "execute_result"
    }
   ],
   "source": [
    "df1"
   ]
  },
  {
   "cell_type": "code",
   "execution_count": 5,
   "metadata": {},
   "outputs": [],
   "source": [
    "#removing string from values in year column\n",
    "\n",
    "df1['year'] = df1['year'].str.extract('(\\d+)', expand=False)\n"
   ]
  },
  {
   "cell_type": "code",
   "execution_count": 6,
   "metadata": {},
   "outputs": [
    {
     "data": {
      "text/html": [
       "<div>\n",
       "<style scoped>\n",
       "    .dataframe tbody tr th:only-of-type {\n",
       "        vertical-align: middle;\n",
       "    }\n",
       "\n",
       "    .dataframe tbody tr th {\n",
       "        vertical-align: top;\n",
       "    }\n",
       "\n",
       "    .dataframe thead th {\n",
       "        text-align: right;\n",
       "    }\n",
       "</style>\n",
       "<table border=\"1\" class=\"dataframe\">\n",
       "  <thead>\n",
       "    <tr style=\"text-align: right;\">\n",
       "      <th></th>\n",
       "      <th>continent</th>\n",
       "      <th>year</th>\n",
       "      <th>population</th>\n",
       "    </tr>\n",
       "  </thead>\n",
       "  <tbody>\n",
       "    <tr>\n",
       "      <th>0</th>\n",
       "      <td>Asia</td>\n",
       "      <td>1970</td>\n",
       "      <td>10752971</td>\n",
       "    </tr>\n",
       "    <tr>\n",
       "      <th>1</th>\n",
       "      <td>Europe</td>\n",
       "      <td>1970</td>\n",
       "      <td>2324731</td>\n",
       "    </tr>\n",
       "    <tr>\n",
       "      <th>2</th>\n",
       "      <td>Africa</td>\n",
       "      <td>1970</td>\n",
       "      <td>13795915</td>\n",
       "    </tr>\n",
       "    <tr>\n",
       "      <th>3</th>\n",
       "      <td>Oceania</td>\n",
       "      <td>1970</td>\n",
       "      <td>27075</td>\n",
       "    </tr>\n",
       "    <tr>\n",
       "      <th>4</th>\n",
       "      <td>Europe</td>\n",
       "      <td>1970</td>\n",
       "      <td>19860</td>\n",
       "    </tr>\n",
       "    <tr>\n",
       "      <th>...</th>\n",
       "      <td>...</td>\n",
       "      <td>...</td>\n",
       "      <td>...</td>\n",
       "    </tr>\n",
       "    <tr>\n",
       "      <th>2101</th>\n",
       "      <td>Oceania</td>\n",
       "      <td>2050</td>\n",
       "      <td>11349</td>\n",
       "    </tr>\n",
       "    <tr>\n",
       "      <th>2102</th>\n",
       "      <td>Africa</td>\n",
       "      <td>2050</td>\n",
       "      <td>851067</td>\n",
       "    </tr>\n",
       "    <tr>\n",
       "      <th>2103</th>\n",
       "      <td>Asia</td>\n",
       "      <td>2050</td>\n",
       "      <td>55296331</td>\n",
       "    </tr>\n",
       "    <tr>\n",
       "      <th>2104</th>\n",
       "      <td>Africa</td>\n",
       "      <td>2050</td>\n",
       "      <td>37460435</td>\n",
       "    </tr>\n",
       "    <tr>\n",
       "      <th>2105</th>\n",
       "      <td>Africa</td>\n",
       "      <td>2050</td>\n",
       "      <td>26438589</td>\n",
       "    </tr>\n",
       "  </tbody>\n",
       "</table>\n",
       "<p>2106 rows × 3 columns</p>\n",
       "</div>"
      ],
      "text/plain": [
       "     continent  year  population\n",
       "0         Asia  1970    10752971\n",
       "1       Europe  1970     2324731\n",
       "2       Africa  1970    13795915\n",
       "3      Oceania  1970       27075\n",
       "4       Europe  1970       19860\n",
       "...        ...   ...         ...\n",
       "2101   Oceania  2050       11349\n",
       "2102    Africa  2050      851067\n",
       "2103      Asia  2050    55296331\n",
       "2104    Africa  2050    37460435\n",
       "2105    Africa  2050    26438589\n",
       "\n",
       "[2106 rows x 3 columns]"
      ]
     },
     "execution_count": 6,
     "metadata": {},
     "output_type": "execute_result"
    }
   ],
   "source": [
    "df1"
   ]
  },
  {
   "cell_type": "code",
   "execution_count": 7,
   "metadata": {},
   "outputs": [
    {
     "name": "stdout",
     "output_type": "stream",
     "text": [
      "int64\n"
     ]
    }
   ],
   "source": [
    "#checking population column type\n",
    "\n",
    "print(df1['population'].dtype)"
   ]
  },
  {
   "cell_type": "code",
   "execution_count": 9,
   "metadata": {},
   "outputs": [
    {
     "data": {
      "text/plain": [
       "Index([], dtype='int64')"
      ]
     },
     "execution_count": 9,
     "metadata": {},
     "output_type": "execute_result"
    }
   ],
   "source": [
    "#checking if the population column has any missing value\n",
    "\n",
    "df1[df1['population'] == ''].index"
   ]
  }
 ],
 "metadata": {
  "kernelspec": {
   "display_name": "Python 3",
   "language": "python",
   "name": "python3"
  },
  "language_info": {
   "codemirror_mode": {
    "name": "ipython",
    "version": 3
   },
   "file_extension": ".py",
   "mimetype": "text/x-python",
   "name": "python",
   "nbconvert_exporter": "python",
   "pygments_lexer": "ipython3",
   "version": "3.11.9"
  }
 },
 "nbformat": 4,
 "nbformat_minor": 2
}
